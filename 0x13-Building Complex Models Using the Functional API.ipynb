{
 "cells": [
  {
   "cell_type": "markdown",
   "id": "fa315646-0933-44a0-be89-a939055b9db8",
   "metadata": {},
   "source": [
    "# Building Complex Models Using the Functional API.\n",
    "- Wide & Deep Neural network is an example of a nonsequential NN.\n",
    "- It connects all or part of the inputs directly to the output layer, making it possible for the NN to learn both deep patterns (using the deep path) and simple rules (through the short path).\n",
    "- In contrast a regular MLP forces all the data to flow through the full stack of layers (thus simple patterns may end up being distorted by this sequence of transformtions)."
   ]
  },
  {
   "cell_type": "code",
   "execution_count": 1,
   "id": "c51f3013-8574-421b-b781-b64f753fcbb1",
   "metadata": {},
   "outputs": [],
   "source": [
    "# Building the neural net using keras to tackel the california dataset.\n",
    "\n",
    "import tensorflow as tf\n",
    "from tensorflow import keras"
   ]
  },
  {
   "cell_type": "code",
   "execution_count": 2,
   "id": "c5356142-9a26-4a99-8407-98493c484fb3",
   "metadata": {},
   "outputs": [],
   "source": [
    "from sklearn.datasets import fetch_california_housing\n",
    "from sklearn.model_selection import train_test_split\n",
    "from sklearn.preprocessing import StandardScaler\n",
    "\n",
    "housing = fetch_california_housing()\n",
    "\n",
    "X_train_full, X_test, y_train_full, y_test = train_test_split(\n",
    "    housing.data, housing.target)\n",
    "X_train, X_valid, y_train, y_valid = train_test_split(\n",
    "    X_train_full, y_train_full)\n",
    "\n",
    "scaler = StandardScaler()\n",
    "X_train = scaler.fit_transform(X_train)\n",
    "X_valid = scaler.transform(X_valid)\n",
    "X_test = scaler.transform(X_test)"
   ]
  },
  {
   "cell_type": "code",
   "execution_count": 3,
   "id": "b63e04ec-62c9-432a-815a-0db888b17274",
   "metadata": {},
   "outputs": [],
   "source": [
    "input_ = keras.layers.Input(shape=X_train.shape[1:])\n",
    "hidden1 = keras.layers.Dense(30, activation=\"relu\")(input_)\n",
    "hidden2 = keras.layers.Dense(30, activation=\"relu\")(hidden1)\n",
    "concat = keras.layers.Concatenate()([input_, hidden2])\n",
    "output = keras.layers.Dense(1)(concat)\n",
    "model = keras.Model(inputs=[input_], outputs=[output])"
   ]
  },
  {
   "cell_type": "code",
   "execution_count": 4,
   "id": "ed137bd5-1fa7-4f1e-8a2d-aa5ba6b31ca6",
   "metadata": {},
   "outputs": [
    {
     "name": "stdout",
     "output_type": "stream",
     "text": [
      "NaNs in X_train: False\n",
      "Infinities in X_train: False\n",
      "NaNs in y_train: False\n",
      "Infinities in y_train: False\n"
     ]
    }
   ],
   "source": [
    "import numpy as np\n",
    "import pandas as pd\n",
    "\n",
    "# Check for NaNs or Infinities\n",
    "print(\"NaNs in X_train:\", np.any(np.isnan(X_train)))\n",
    "print(\"Infinities in X_train:\", np.any(np.isinf(X_train)))\n",
    "print(\"NaNs in y_train:\", np.any(np.isnan(y_train)))\n",
    "print(\"Infinities in y_train:\", np.any(np.isinf(y_train)))"
   ]
  },
  {
   "cell_type": "code",
   "execution_count": 5,
   "id": "06df1da0-3e2b-4863-ba2f-4915e256ed9b",
   "metadata": {},
   "outputs": [
    {
     "name": "stdout",
     "output_type": "stream",
     "text": [
      "Epoch 1/20\n",
      "\u001b[1m363/363\u001b[0m \u001b[32m━━━━━━━━━━━━━━━━━━━━\u001b[0m\u001b[37m\u001b[0m \u001b[1m4s\u001b[0m 6ms/step - loss: 4.2479 - val_loss: 1.2840\n",
      "Epoch 2/20\n",
      "\u001b[1m363/363\u001b[0m \u001b[32m━━━━━━━━━━━━━━━━━━━━\u001b[0m\u001b[37m\u001b[0m \u001b[1m1s\u001b[0m 2ms/step - loss: 1.0318 - val_loss: 0.8114\n",
      "Epoch 3/20\n",
      "\u001b[1m363/363\u001b[0m \u001b[32m━━━━━━━━━━━━━━━━━━━━\u001b[0m\u001b[37m\u001b[0m \u001b[1m2s\u001b[0m 3ms/step - loss: 0.9093 - val_loss: 0.7573\n",
      "Epoch 4/20\n",
      "\u001b[1m363/363\u001b[0m \u001b[32m━━━━━━━━━━━━━━━━━━━━\u001b[0m\u001b[37m\u001b[0m \u001b[1m1s\u001b[0m 3ms/step - loss: 0.6738 - val_loss: 0.7103\n",
      "Epoch 5/20\n",
      "\u001b[1m363/363\u001b[0m \u001b[32m━━━━━━━━━━━━━━━━━━━━\u001b[0m\u001b[37m\u001b[0m \u001b[1m1s\u001b[0m 3ms/step - loss: 0.6541 - val_loss: 0.6724\n",
      "Epoch 6/20\n",
      "\u001b[1m363/363\u001b[0m \u001b[32m━━━━━━━━━━━━━━━━━━━━\u001b[0m\u001b[37m\u001b[0m \u001b[1m1s\u001b[0m 3ms/step - loss: 0.6228 - val_loss: 0.6411\n",
      "Epoch 7/20\n",
      "\u001b[1m363/363\u001b[0m \u001b[32m━━━━━━━━━━━━━━━━━━━━\u001b[0m\u001b[37m\u001b[0m \u001b[1m2s\u001b[0m 5ms/step - loss: 0.6471 - val_loss: 0.6133\n",
      "Epoch 8/20\n",
      "\u001b[1m363/363\u001b[0m \u001b[32m━━━━━━━━━━━━━━━━━━━━\u001b[0m\u001b[37m\u001b[0m \u001b[1m1s\u001b[0m 3ms/step - loss: 0.5942 - val_loss: 0.5896\n",
      "Epoch 9/20\n",
      "\u001b[1m363/363\u001b[0m \u001b[32m━━━━━━━━━━━━━━━━━━━━\u001b[0m\u001b[37m\u001b[0m \u001b[1m1s\u001b[0m 2ms/step - loss: 0.5760 - val_loss: 0.5716\n",
      "Epoch 10/20\n",
      "\u001b[1m363/363\u001b[0m \u001b[32m━━━━━━━━━━━━━━━━━━━━\u001b[0m\u001b[37m\u001b[0m \u001b[1m1s\u001b[0m 3ms/step - loss: 0.5518 - val_loss: 0.5558\n",
      "Epoch 11/20\n",
      "\u001b[1m363/363\u001b[0m \u001b[32m━━━━━━━━━━━━━━━━━━━━\u001b[0m\u001b[37m\u001b[0m \u001b[1m1s\u001b[0m 3ms/step - loss: 0.5207 - val_loss: 0.5426\n",
      "Epoch 12/20\n",
      "\u001b[1m363/363\u001b[0m \u001b[32m━━━━━━━━━━━━━━━━━━━━\u001b[0m\u001b[37m\u001b[0m \u001b[1m1s\u001b[0m 3ms/step - loss: 0.5232 - val_loss: 0.5324\n",
      "Epoch 13/20\n",
      "\u001b[1m363/363\u001b[0m \u001b[32m━━━━━━━━━━━━━━━━━━━━\u001b[0m\u001b[37m\u001b[0m \u001b[1m1s\u001b[0m 3ms/step - loss: 0.5194 - val_loss: 0.5234\n",
      "Epoch 14/20\n",
      "\u001b[1m363/363\u001b[0m \u001b[32m━━━━━━━━━━━━━━━━━━━━\u001b[0m\u001b[37m\u001b[0m \u001b[1m1s\u001b[0m 3ms/step - loss: 0.5173 - val_loss: 0.5177\n",
      "Epoch 15/20\n",
      "\u001b[1m363/363\u001b[0m \u001b[32m━━━━━━━━━━━━━━━━━━━━\u001b[0m\u001b[37m\u001b[0m \u001b[1m1s\u001b[0m 3ms/step - loss: 0.5217 - val_loss: 0.5100\n",
      "Epoch 16/20\n",
      "\u001b[1m363/363\u001b[0m \u001b[32m━━━━━━━━━━━━━━━━━━━━\u001b[0m\u001b[37m\u001b[0m \u001b[1m1s\u001b[0m 3ms/step - loss: 0.4957 - val_loss: 0.5053\n",
      "Epoch 17/20\n",
      "\u001b[1m363/363\u001b[0m \u001b[32m━━━━━━━━━━━━━━━━━━━━\u001b[0m\u001b[37m\u001b[0m \u001b[1m1s\u001b[0m 3ms/step - loss: 0.5098 - val_loss: 0.5007\n",
      "Epoch 18/20\n",
      "\u001b[1m363/363\u001b[0m \u001b[32m━━━━━━━━━━━━━━━━━━━━\u001b[0m\u001b[37m\u001b[0m \u001b[1m1s\u001b[0m 3ms/step - loss: 0.5148 - val_loss: 0.4965\n",
      "Epoch 19/20\n",
      "\u001b[1m363/363\u001b[0m \u001b[32m━━━━━━━━━━━━━━━━━━━━\u001b[0m\u001b[37m\u001b[0m \u001b[1m1s\u001b[0m 3ms/step - loss: 0.4736 - val_loss: 0.4927\n",
      "Epoch 20/20\n",
      "\u001b[1m363/363\u001b[0m \u001b[32m━━━━━━━━━━━━━━━━━━━━\u001b[0m\u001b[37m\u001b[0m \u001b[1m1s\u001b[0m 3ms/step - loss: 0.5105 - val_loss: 0.4899\n",
      "\u001b[1m162/162\u001b[0m \u001b[32m━━━━━━━━━━━━━━━━━━━━\u001b[0m\u001b[37m\u001b[0m \u001b[1m0s\u001b[0m 2ms/step - loss: 0.4755\n",
      "\u001b[1m162/162\u001b[0m \u001b[32m━━━━━━━━━━━━━━━━━━━━\u001b[0m\u001b[37m\u001b[0m \u001b[1m1s\u001b[0m 2ms/step\n"
     ]
    },
    {
     "data": {
      "text/plain": [
       "array([[2.3932884],\n",
       "       [2.257823 ],\n",
       "       [1.5229313],\n",
       "       ...,\n",
       "       [2.2100081],\n",
       "       [1.6809204],\n",
       "       [1.0147047]], dtype=float32)"
      ]
     },
     "execution_count": 5,
     "metadata": {},
     "output_type": "execute_result"
    }
   ],
   "source": [
    "from tensorflow.keras.optimizers import SGD\n",
    "\n",
    "optimizer = SGD(learning_rate=1e-3, clipnorm=1.0)\n",
    "model.compile(loss=\"mean_squared_error\", optimizer=optimizer)\n",
    "\n",
    "history = model.fit(X_train, y_train, epochs=20, validation_data=(X_valid, y_valid))\n",
    "mse_test = model.evaluate(X_test, y_test)\n",
    "X_new = X_test[3:]\n",
    "y_pred = model.predict(X_new)\n",
    "y_pred"
   ]
  },
  {
   "cell_type": "code",
   "execution_count": 6,
   "id": "0fdb784d-b46f-481a-b350-c0b4f300aea5",
   "metadata": {},
   "outputs": [],
   "source": [
    "X_train_A, X_train_B = X_train[:, :5], X_train[:, 2:]\n",
    "X_valid_A, X_valid_B = X_valid[:, :5], X_valid[:, 2:]\n",
    "X_test_A, X_test_B = X_test[:, :5], X_test[:, 2:]\n",
    "X_new_A, X_new_B = X_test_A[:3], X_test_B[:3]"
   ]
  },
  {
   "cell_type": "code",
   "execution_count": 7,
   "id": "7514fecf-917d-4b7a-aa3f-eccb23f01f8a",
   "metadata": {},
   "outputs": [],
   "source": [
    "# Creating a network with multiple outputs.\n",
    "\n",
    "from tensorflow.keras.layers import Input, Dense, concatenate\n",
    "from tensorflow.keras.models import Model\n",
    "\n",
    "input_A = Input(shape=[5], name=\"wide_input\")\n",
    "input_B = Input(shape=[6], name=\"deep_input\")\n",
    "hidden1 = Dense(30, activation=\"relu\")(input_B)\n",
    "hidden2 = Dense(30, activation=\"relu\")(hidden1)\n",
    "concat = concatenate([input_A, hidden2])\n",
    "output = Dense(1, name=\"main_output\")(concat)\n",
    "aux_output = Dense(1, name=\"aux_output\")(hidden2)\n",
    "model = Model(inputs=[input_A, input_B], outputs=[output, aux_output])\n"
   ]
  },
  {
   "cell_type": "code",
   "execution_count": 8,
   "id": "7eaae424-2772-4f41-9a1c-d6cec88fd762",
   "metadata": {},
   "outputs": [],
   "source": [
    "from tensorflow.keras.losses import MeanSquaredError\n",
    "\n",
    "# Define separate loss functions for main and auxiliary outputs\n",
    "main_output_loss = MeanSquaredError()\n",
    "aux_output_loss = MeanSquaredError()\n",
    "\n",
    "# Compile the model with separate loss functions\n",
    "model.compile(optimizer='adam',\n",
    "              loss=[main_output_loss, aux_output_loss],\n",
    "              metrics=[['mse'], ['mse']])"
   ]
  },
  {
   "cell_type": "code",
   "execution_count": 9,
   "id": "8de0f32a-72fc-40a3-a753-b719d80eb529",
   "metadata": {},
   "outputs": [
    {
     "name": "stdout",
     "output_type": "stream",
     "text": [
      "Epoch 1/20\n",
      "\u001b[1m363/363\u001b[0m \u001b[32m━━━━━━━━━━━━━━━━━━━━\u001b[0m\u001b[37m\u001b[0m \u001b[1m5s\u001b[0m 5ms/step - aux_output_mse: 3.3896 - loss: 6.7605 - main_output_mse: 3.3709 - val_aux_output_mse: 1.1026 - val_loss: 2.0220 - val_main_output_mse: 0.9194\n",
      "Epoch 2/20\n",
      "\u001b[1m363/363\u001b[0m \u001b[32m━━━━━━━━━━━━━━━━━━━━\u001b[0m\u001b[37m\u001b[0m \u001b[1m1s\u001b[0m 3ms/step - aux_output_mse: 0.8756 - loss: 1.5862 - main_output_mse: 0.7106 - val_aux_output_mse: 0.6697 - val_loss: 1.1741 - val_main_output_mse: 0.5044\n",
      "Epoch 3/20\n",
      "\u001b[1m363/363\u001b[0m \u001b[32m━━━━━━━━━━━━━━━━━━━━\u001b[0m\u001b[37m\u001b[0m \u001b[1m1s\u001b[0m 3ms/step - aux_output_mse: 0.6341 - loss: 1.1121 - main_output_mse: 0.4780 - val_aux_output_mse: 0.6027 - val_loss: 1.0546 - val_main_output_mse: 0.4519\n",
      "Epoch 4/20\n",
      "\u001b[1m363/363\u001b[0m \u001b[32m━━━━━━━━━━━━━━━━━━━━\u001b[0m\u001b[37m\u001b[0m \u001b[1m1s\u001b[0m 3ms/step - aux_output_mse: 0.5950 - loss: 1.0441 - main_output_mse: 0.4491 - val_aux_output_mse: 0.5597 - val_loss: 0.9832 - val_main_output_mse: 0.4235\n",
      "Epoch 5/20\n",
      "\u001b[1m363/363\u001b[0m \u001b[32m━━━━━━━━━━━━━━━━━━━━\u001b[0m\u001b[37m\u001b[0m \u001b[1m2s\u001b[0m 4ms/step - aux_output_mse: 0.5404 - loss: 0.9554 - main_output_mse: 0.4150 - val_aux_output_mse: 0.5293 - val_loss: 0.9413 - val_main_output_mse: 0.4120\n",
      "Epoch 6/20\n",
      "\u001b[1m363/363\u001b[0m \u001b[32m━━━━━━━━━━━━━━━━━━━━\u001b[0m\u001b[37m\u001b[0m \u001b[1m2s\u001b[0m 4ms/step - aux_output_mse: 0.5065 - loss: 0.9023 - main_output_mse: 0.3959 - val_aux_output_mse: 0.5181 - val_loss: 0.9247 - val_main_output_mse: 0.4066\n",
      "Epoch 7/20\n",
      "\u001b[1m363/363\u001b[0m \u001b[32m━━━━━━━━━━━━━━━━━━━━\u001b[0m\u001b[37m\u001b[0m \u001b[1m1s\u001b[0m 4ms/step - aux_output_mse: 0.5027 - loss: 0.9245 - main_output_mse: 0.4218 - val_aux_output_mse: 0.5030 - val_loss: 0.9028 - val_main_output_mse: 0.3998\n",
      "Epoch 8/20\n",
      "\u001b[1m363/363\u001b[0m \u001b[32m━━━━━━━━━━━━━━━━━━━━\u001b[0m\u001b[37m\u001b[0m \u001b[1m2s\u001b[0m 3ms/step - aux_output_mse: 0.4899 - loss: 0.8961 - main_output_mse: 0.4062 - val_aux_output_mse: 0.4783 - val_loss: 0.8627 - val_main_output_mse: 0.3844\n",
      "Epoch 9/20\n",
      "\u001b[1m363/363\u001b[0m \u001b[32m━━━━━━━━━━━━━━━━━━━━\u001b[0m\u001b[37m\u001b[0m \u001b[1m1s\u001b[0m 3ms/step - aux_output_mse: 0.4826 - loss: 0.8771 - main_output_mse: 0.3945 - val_aux_output_mse: 0.4677 - val_loss: 0.8470 - val_main_output_mse: 0.3792\n",
      "Epoch 10/20\n",
      "\u001b[1m363/363\u001b[0m \u001b[32m━━━━━━━━━━━━━━━━━━━━\u001b[0m\u001b[37m\u001b[0m \u001b[1m1s\u001b[0m 3ms/step - aux_output_mse: 0.4613 - loss: 0.8409 - main_output_mse: 0.3796 - val_aux_output_mse: 0.4682 - val_loss: 0.8485 - val_main_output_mse: 0.3804\n",
      "Epoch 11/20\n",
      "\u001b[1m363/363\u001b[0m \u001b[32m━━━━━━━━━━━━━━━━━━━━\u001b[0m\u001b[37m\u001b[0m \u001b[1m1s\u001b[0m 4ms/step - aux_output_mse: 0.4505 - loss: 0.8227 - main_output_mse: 0.3722 - val_aux_output_mse: 0.4484 - val_loss: 0.8261 - val_main_output_mse: 0.3778\n",
      "Epoch 12/20\n",
      "\u001b[1m363/363\u001b[0m \u001b[32m━━━━━━━━━━━━━━━━━━━━\u001b[0m\u001b[37m\u001b[0m \u001b[1m2s\u001b[0m 3ms/step - aux_output_mse: 0.4456 - loss: 0.8222 - main_output_mse: 0.3766 - val_aux_output_mse: 0.4384 - val_loss: 0.8061 - val_main_output_mse: 0.3677\n",
      "Epoch 13/20\n",
      "\u001b[1m363/363\u001b[0m \u001b[32m━━━━━━━━━━━━━━━━━━━━\u001b[0m\u001b[37m\u001b[0m \u001b[1m1s\u001b[0m 3ms/step - aux_output_mse: 0.4296 - loss: 0.8098 - main_output_mse: 0.3802 - val_aux_output_mse: 0.4362 - val_loss: 0.8077 - val_main_output_mse: 0.3715\n",
      "Epoch 14/20\n",
      "\u001b[1m363/363\u001b[0m \u001b[32m━━━━━━━━━━━━━━━━━━━━\u001b[0m\u001b[37m\u001b[0m \u001b[1m1s\u001b[0m 3ms/step - aux_output_mse: 0.4174 - loss: 0.7820 - main_output_mse: 0.3646 - val_aux_output_mse: 0.4363 - val_loss: 0.8044 - val_main_output_mse: 0.3681\n",
      "Epoch 15/20\n",
      "\u001b[1m363/363\u001b[0m \u001b[32m━━━━━━━━━━━━━━━━━━━━\u001b[0m\u001b[37m\u001b[0m \u001b[1m2s\u001b[0m 4ms/step - aux_output_mse: 0.4157 - loss: 0.7733 - main_output_mse: 0.3576 - val_aux_output_mse: 0.4267 - val_loss: 0.8144 - val_main_output_mse: 0.3877\n",
      "Epoch 16/20\n",
      "\u001b[1m363/363\u001b[0m \u001b[32m━━━━━━━━━━━━━━━━━━━━\u001b[0m\u001b[37m\u001b[0m \u001b[1m2s\u001b[0m 4ms/step - aux_output_mse: 0.4441 - loss: 0.8921 - main_output_mse: 0.4480 - val_aux_output_mse: 0.4221 - val_loss: 0.7799 - val_main_output_mse: 0.3578\n",
      "Epoch 17/20\n",
      "\u001b[1m363/363\u001b[0m \u001b[32m━━━━━━━━━━━━━━━━━━━━\u001b[0m\u001b[37m\u001b[0m \u001b[1m2s\u001b[0m 4ms/step - aux_output_mse: 0.4115 - loss: 0.7614 - main_output_mse: 0.3499 - val_aux_output_mse: 0.4150 - val_loss: 0.7682 - val_main_output_mse: 0.3532\n",
      "Epoch 18/20\n",
      "\u001b[1m363/363\u001b[0m \u001b[32m━━━━━━━━━━━━━━━━━━━━\u001b[0m\u001b[37m\u001b[0m \u001b[1m2s\u001b[0m 4ms/step - aux_output_mse: 0.3950 - loss: 0.7325 - main_output_mse: 0.3376 - val_aux_output_mse: 0.4054 - val_loss: 0.7511 - val_main_output_mse: 0.3457\n",
      "Epoch 19/20\n",
      "\u001b[1m363/363\u001b[0m \u001b[32m━━━━━━━━━━━━━━━━━━━━\u001b[0m\u001b[37m\u001b[0m \u001b[1m1s\u001b[0m 3ms/step - aux_output_mse: 0.3912 - loss: 0.7331 - main_output_mse: 0.3419 - val_aux_output_mse: 0.4076 - val_loss: 0.7567 - val_main_output_mse: 0.3491\n",
      "Epoch 20/20\n",
      "\u001b[1m363/363\u001b[0m \u001b[32m━━━━━━━━━━━━━━━━━━━━\u001b[0m\u001b[37m\u001b[0m \u001b[1m1s\u001b[0m 3ms/step - aux_output_mse: 0.3999 - loss: 0.7537 - main_output_mse: 0.3538 - val_aux_output_mse: 0.4002 - val_loss: 0.7461 - val_main_output_mse: 0.3459\n"
     ]
    }
   ],
   "source": [
    "history = model.fit(\n",
    "    [X_train_A, X_train_B], [y_train, y_train], \n",
    "    epochs=20,\n",
    "    validation_data=([X_valid_A, X_valid_B], [y_valid, y_valid])\n",
    ")"
   ]
  },
  {
   "cell_type": "code",
   "execution_count": 10,
   "id": "a2bd5955-951e-40d6-9810-569fe566be6f",
   "metadata": {},
   "outputs": [
    {
     "name": "stdout",
     "output_type": "stream",
     "text": [
      "\u001b[1m162/162\u001b[0m \u001b[32m━━━━━━━━━━━━━━━━━━━━\u001b[0m\u001b[37m\u001b[0m \u001b[1m0s\u001b[0m 2ms/step - aux_output_mse: 0.4100 - loss: 0.7648 - main_output_mse: 0.3548\n",
      "Total loss: 0.7299187779426575\n",
      "Main loss: 0.3904551863670349\n",
      "Aux loss: 0.33946338295936584\n"
     ]
    }
   ],
   "source": [
    "metrics = model.evaluate([X_test_A, X_test_B], [y_test, y_test])\n",
    "total_loss = metrics[0]\n",
    "main_loss = metrics[1]\n",
    "aux_loss = metrics[2]\n",
    "\n",
    "print(\"Total loss:\", total_loss)\n",
    "print(\"Main loss:\", main_loss)\n",
    "print(\"Aux loss:\", aux_loss)"
   ]
  },
  {
   "cell_type": "markdown",
   "id": "c5b0c945-4f07-4e00-a5ce-bb272586ccab",
   "metadata": {},
   "source": [
    "# Using the Subclassing API to Build Dynamic Models"
   ]
  },
  {
   "cell_type": "code",
   "execution_count": 11,
   "id": "412efe3f-5ead-46cd-a1c4-0fb344c84ead",
   "metadata": {},
   "outputs": [],
   "source": [
    "class WideAndDeepModel(keras.Model):\n",
    "    def __init__(self, units=30, activation=\"relu\", **kwargs):\n",
    "        super().__init__(**kwargs) # handles standard args (e.g, name)\n",
    "        self.hidden1 = keras.layers.Dense(units, activation=activation)\n",
    "        self.hidden2 = keras.layers.Dense(units, activation=activation)\n",
    "        self.main_output = keras.layers.Dense(1)\n",
    "        self.aux_output = keras.layers.Dense(1)\n",
    "\n",
    "\n",
    "    def call(self, inputs):\n",
    "        input_A, input_B = inputs\n",
    "        hidden1 = self.hidden1(input_B)\n",
    "        hidden2 = self.hidden2(hidden1)\n",
    "        concat = keras.layers.concatenate([input_A, hidden2])\n",
    "        main_output = sellf.main_output(concat)\n",
    "        aux_output = self.aux_output(hidden2)\n",
    "        return main_output, aux_output\n",
    "\n",
    "model = WideAndDeepModel()"
   ]
  },
  {
   "cell_type": "code",
   "execution_count": null,
   "id": "335e6c16-58cb-4bbf-aae1-5e2e5f97baac",
   "metadata": {},
   "outputs": [],
   "source": []
  }
 ],
 "metadata": {
  "kernelspec": {
   "display_name": "Python 3 (ipykernel)",
   "language": "python",
   "name": "python3"
  },
  "language_info": {
   "codemirror_mode": {
    "name": "ipython",
    "version": 3
   },
   "file_extension": ".py",
   "mimetype": "text/x-python",
   "name": "python",
   "nbconvert_exporter": "python",
   "pygments_lexer": "ipython3",
   "version": "3.11.7"
  }
 },
 "nbformat": 4,
 "nbformat_minor": 5
}
