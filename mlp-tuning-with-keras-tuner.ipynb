{
 "cells": [
  {
   "cell_type": "markdown",
   "id": "925a829e",
   "metadata": {
    "_cell_guid": "b1076dfc-b9ad-4769-8c92-a6c4dae69d19",
    "_uuid": "8f2839f25d086af736a60e9eeb907d3b93b6e0e5",
    "papermill": {
     "duration": 0.009382,
     "end_time": "2024-07-03T13:47:11.002957",
     "exception": false,
     "start_time": "2024-07-03T13:47:10.993575",
     "status": "completed"
    },
    "tags": []
   },
   "source": [
    "# Training and Tuning Deep MLP on the MNIST dataset."
   ]
  },
  {
   "cell_type": "code",
   "execution_count": 1,
   "id": "1df0f474",
   "metadata": {
    "execution": {
     "iopub.execute_input": "2024-07-03T13:47:11.022505Z",
     "iopub.status.busy": "2024-07-03T13:47:11.022060Z",
     "iopub.status.idle": "2024-07-03T13:47:28.520155Z",
     "shell.execute_reply": "2024-07-03T13:47:28.518861Z"
    },
    "papermill": {
     "duration": 17.51028,
     "end_time": "2024-07-03T13:47:28.522992",
     "exception": false,
     "start_time": "2024-07-03T13:47:11.012712",
     "status": "completed"
    },
    "tags": []
   },
   "outputs": [
    {
     "name": "stderr",
     "output_type": "stream",
     "text": [
      "2024-07-03 13:47:13.531065: E external/local_xla/xla/stream_executor/cuda/cuda_dnn.cc:9261] Unable to register cuDNN factory: Attempting to register factory for plugin cuDNN when one has already been registered\n",
      "2024-07-03 13:47:13.531209: E external/local_xla/xla/stream_executor/cuda/cuda_fft.cc:607] Unable to register cuFFT factory: Attempting to register factory for plugin cuFFT when one has already been registered\n",
      "2024-07-03 13:47:13.732268: E external/local_xla/xla/stream_executor/cuda/cuda_blas.cc:1515] Unable to register cuBLAS factory: Attempting to register factory for plugin cuBLAS when one has already been registered\n"
     ]
    }
   ],
   "source": [
    "import sys\n",
    "\n",
    "assert sys.version_info >= (3, 7)\n",
    "import tensorflow as tf\n",
    "import numpy as np\n",
    "import pandas as pd\n",
    "import matplotlib.pyplot as plt\n",
    "import sklearn\n",
    "from sklearn.linear_model import Perceptron"
   ]
  },
  {
   "cell_type": "markdown",
   "id": "0a7959e4",
   "metadata": {
    "execution": {
     "iopub.execute_input": "2024-07-03T10:04:00.784036Z",
     "iopub.status.busy": "2024-07-03T10:04:00.782915Z",
     "iopub.status.idle": "2024-07-03T10:04:00.832553Z",
     "shell.execute_reply": "2024-07-03T10:04:00.830903Z",
     "shell.execute_reply.started": "2024-07-03T10:04:00.784001Z"
    },
    "papermill": {
     "duration": 0.007688,
     "end_time": "2024-07-03T13:47:28.538957",
     "exception": false,
     "start_time": "2024-07-03T13:47:28.531269",
     "status": "completed"
    },
    "tags": []
   },
   "source": [
    "## Loading the Dataset\n"
   ]
  },
  {
   "cell_type": "code",
   "execution_count": 2,
   "id": "35961674",
   "metadata": {
    "execution": {
     "iopub.execute_input": "2024-07-03T13:47:28.557424Z",
     "iopub.status.busy": "2024-07-03T13:47:28.556708Z",
     "iopub.status.idle": "2024-07-03T13:47:30.098227Z",
     "shell.execute_reply": "2024-07-03T13:47:30.097077Z"
    },
    "papermill": {
     "duration": 1.553989,
     "end_time": "2024-07-03T13:47:30.100994",
     "exception": false,
     "start_time": "2024-07-03T13:47:28.547005",
     "status": "completed"
    },
    "tags": []
   },
   "outputs": [
    {
     "name": "stdout",
     "output_type": "stream",
     "text": [
      "Downloading data from https://storage.googleapis.com/tensorflow/tf-keras-datasets/mnist.npz\n",
      "\u001b[1m11490434/11490434\u001b[0m \u001b[32m━━━━━━━━━━━━━━━━━━━━\u001b[0m\u001b[37m\u001b[0m \u001b[1m1s\u001b[0m 0us/step\n"
     ]
    }
   ],
   "source": [
    "(X_train_full, y_train_full), (X_test, y_test) = tf.keras.datasets.mnist.load_data()"
   ]
  },
  {
   "cell_type": "code",
   "execution_count": 3,
   "id": "227b2348",
   "metadata": {
    "execution": {
     "iopub.execute_input": "2024-07-03T13:47:30.124297Z",
     "iopub.status.busy": "2024-07-03T13:47:30.123851Z",
     "iopub.status.idle": "2024-07-03T13:47:30.135537Z",
     "shell.execute_reply": "2024-07-03T13:47:30.134113Z"
    },
    "papermill": {
     "duration": 0.027336,
     "end_time": "2024-07-03T13:47:30.138651",
     "exception": false,
     "start_time": "2024-07-03T13:47:30.111315",
     "status": "completed"
    },
    "tags": []
   },
   "outputs": [
    {
     "data": {
      "text/plain": [
       "(60000, 28, 28)"
      ]
     },
     "execution_count": 3,
     "metadata": {},
     "output_type": "execute_result"
    }
   ],
   "source": [
    "X_train_full.shape"
   ]
  },
  {
   "cell_type": "code",
   "execution_count": 4,
   "id": "76791912",
   "metadata": {
    "execution": {
     "iopub.execute_input": "2024-07-03T13:47:30.161339Z",
     "iopub.status.busy": "2024-07-03T13:47:30.160916Z",
     "iopub.status.idle": "2024-07-03T13:47:30.167852Z",
     "shell.execute_reply": "2024-07-03T13:47:30.166708Z"
    },
    "papermill": {
     "duration": 0.0213,
     "end_time": "2024-07-03T13:47:30.170203",
     "exception": false,
     "start_time": "2024-07-03T13:47:30.148903",
     "status": "completed"
    },
    "tags": []
   },
   "outputs": [
    {
     "data": {
      "text/plain": [
       "dtype('uint8')"
      ]
     },
     "execution_count": 4,
     "metadata": {},
     "output_type": "execute_result"
    }
   ],
   "source": [
    "# Each pixel intesity is presented as a byte\n",
    "X_train_full.dtype"
   ]
  },
  {
   "cell_type": "code",
   "execution_count": 5,
   "id": "cae50dd1",
   "metadata": {
    "execution": {
     "iopub.execute_input": "2024-07-03T13:47:30.192294Z",
     "iopub.status.busy": "2024-07-03T13:47:30.191818Z",
     "iopub.status.idle": "2024-07-03T13:47:30.407086Z",
     "shell.execute_reply": "2024-07-03T13:47:30.405878Z"
    },
    "papermill": {
     "duration": 0.229915,
     "end_time": "2024-07-03T13:47:30.409851",
     "exception": false,
     "start_time": "2024-07-03T13:47:30.179936",
     "status": "completed"
    },
    "tags": []
   },
   "outputs": [],
   "source": [
    "# We will split the full traing set into a validation set and a (smaller) training set.\n",
    "# We scale the pixel intensitie down to the 0 - 1 range and convert them to floats by dividing by 255.\n",
    "\n",
    "X_valid, X_train = X_train_full[:5000] / 255., X_train_full[5000:] / 255.\n",
    "y_valid, y_train = y_train_full[:5000], y_train_full[5000:]\n",
    "X_test = X_test / 255."
   ]
  },
  {
   "cell_type": "code",
   "execution_count": 6,
   "id": "de0e8d45",
   "metadata": {
    "execution": {
     "iopub.execute_input": "2024-07-03T13:47:30.431344Z",
     "iopub.status.busy": "2024-07-03T13:47:30.430979Z",
     "iopub.status.idle": "2024-07-03T13:47:30.539130Z",
     "shell.execute_reply": "2024-07-03T13:47:30.537630Z"
    },
    "papermill": {
     "duration": 0.122604,
     "end_time": "2024-07-03T13:47:30.542712",
     "exception": false,
     "start_time": "2024-07-03T13:47:30.420108",
     "status": "completed"
    },
    "tags": []
   },
   "outputs": [
    {
     "data": {
      "image/png": "[encoded data removed]",
      "text/plain": [
       "<Figure size 640x480 with 1 Axes>"
      ]
     },
     "metadata": {},
     "output_type": "display_data"
    }
   ],
   "source": [
    "plt.imshow(X_train[0], cmap=\"binary\")\n",
    "plt.axis('off')\n",
    "plt.show()"
   ]
  },
  {
   "cell_type": "code",
   "execution_count": 7,
   "id": "0c124970",
   "metadata": {
    "execution": {
     "iopub.execute_input": "2024-07-03T13:47:30.579650Z",
     "iopub.status.busy": "2024-07-03T13:47:30.578033Z",
     "iopub.status.idle": "2024-07-03T13:47:30.586796Z",
     "shell.execute_reply": "2024-07-03T13:47:30.585611Z"
    },
    "papermill": {
     "duration": 0.030862,
     "end_time": "2024-07-03T13:47:30.590090",
     "exception": false,
     "start_time": "2024-07-03T13:47:30.559228",
     "status": "completed"
    },
    "tags": []
   },
   "outputs": [
    {
     "data": {
      "text/plain": [
       "array([7, 3, 4, ..., 5, 6, 8], dtype=uint8)"
      ]
     },
     "execution_count": 7,
     "metadata": {},
     "output_type": "execute_result"
    }
   ],
   "source": [
    "# The labels correspond to the dataset.\n",
    "y_train"
   ]
  },
  {
   "cell_type": "code",
   "execution_count": 8,
   "id": "58b25dd0",
   "metadata": {
    "execution": {
     "iopub.execute_input": "2024-07-03T13:47:30.620160Z",
     "iopub.status.busy": "2024-07-03T13:47:30.619720Z",
     "iopub.status.idle": "2024-07-03T13:47:30.627240Z",
     "shell.execute_reply": "2024-07-03T13:47:30.625910Z"
    },
    "papermill": {
     "duration": 0.022581,
     "end_time": "2024-07-03T13:47:30.629847",
     "exception": false,
     "start_time": "2024-07-03T13:47:30.607266",
     "status": "completed"
    },
    "tags": []
   },
   "outputs": [
    {
     "data": {
      "text/plain": [
       "(5000, 28, 28)"
      ]
     },
     "execution_count": 8,
     "metadata": {},
     "output_type": "execute_result"
    }
   ],
   "source": [
    "# The validation set now contains 5,000 images and the test set contains 10,000 images\n",
    "X_valid.shape"
   ]
  },
  {
   "cell_type": "code",
   "execution_count": 9,
   "id": "f4659027",
   "metadata": {
    "execution": {
     "iopub.execute_input": "2024-07-03T13:47:30.652600Z",
     "iopub.status.busy": "2024-07-03T13:47:30.652157Z",
     "iopub.status.idle": "2024-07-03T13:47:30.659985Z",
     "shell.execute_reply": "2024-07-03T13:47:30.658504Z"
    },
    "papermill": {
     "duration": 0.022562,
     "end_time": "2024-07-03T13:47:30.662634",
     "exception": false,
     "start_time": "2024-07-03T13:47:30.640072",
     "status": "completed"
    },
    "tags": []
   },
   "outputs": [
    {
     "data": {
      "text/plain": [
       "(10000, 28, 28)"
      ]
     },
     "execution_count": 9,
     "metadata": {},
     "output_type": "execute_result"
    }
   ],
   "source": [
    "X_test.shape"
   ]
  },
  {
   "cell_type": "markdown",
   "id": "78cf15a6",
   "metadata": {
    "papermill": {
     "duration": 0.009774,
     "end_time": "2024-07-03T13:47:30.682659",
     "exception": false,
     "start_time": "2024-07-03T13:47:30.672885",
     "status": "completed"
    },
    "tags": []
   },
   "source": [
    "## Sample of the images in the dataset"
   ]
  },
  {
   "cell_type": "code",
   "execution_count": 10,
   "id": "f626aab5",
   "metadata": {
    "execution": {
     "iopub.execute_input": "2024-07-03T13:47:30.704636Z",
     "iopub.status.busy": "2024-07-03T13:47:30.704236Z",
     "iopub.status.idle": "2024-07-03T13:47:33.109195Z",
     "shell.execute_reply": "2024-07-03T13:47:33.107845Z"
    },
    "papermill": {
     "duration": 2.418949,
     "end_time": "2024-07-03T13:47:33.111887",
     "exception": false,
     "start_time": "2024-07-03T13:47:30.692938",
     "status": "completed"
    },
    "tags": []
   },
   "outputs": [
    {
     "data": {
      "image/png": "[encoded data removed]",
      "text/plain": [
       "<Figure size 1200x480 with 40 Axes>"
      ]
     },
     "metadata": {},
     "output_type": "display_data"
    }
   ],
   "source": [
    "n_rows = 4\n",
    "n_cols = 10\n",
    "plt.figure(figsize=(n_cols * 1.2, n_rows * 1.2))\n",
    "for row in range(n_rows):\n",
    "    for col in range(n_cols):\n",
    "        index = n_cols * row + col\n",
    "        plt.subplot(n_rows, n_cols, index + 1)\n",
    "        plt.imshow(X_train[index], cmap=\"binary\", interpolation=\"nearest\")\n",
    "        plt.axis('off')\n",
    "        plt.title(y_train[index])\n",
    "plt.subplots_adjust(wspace=0.2, hspace=0.5)\n",
    "plt.show()"
   ]
  },
  {
   "cell_type": "markdown",
   "id": "84e32db7",
   "metadata": {
    "papermill": {
     "duration": 0.011546,
     "end_time": "2024-07-03T13:47:33.134394",
     "exception": false,
     "start_time": "2024-07-03T13:47:33.122848",
     "status": "completed"
    },
    "tags": []
   },
   "source": [
    "## Building a Dense Network"
   ]
  },
  {
   "cell_type": "markdown",
   "id": "e5a81cad",
   "metadata": {
    "papermill": {
     "duration": 0.010881,
     "end_time": "2024-07-03T13:47:33.156301",
     "exception": false,
     "start_time": "2024-07-03T13:47:33.145420",
     "status": "completed"
    },
    "tags": []
   },
   "source": [
    "- A simple dense network to find the optimal learning rate.\n",
    "- We'll need a callback to grow the learning rate at each iteration, it will also record the learning rate and loss at each iteration."
   ]
  },
  {
   "cell_type": "code",
   "execution_count": 11,
   "id": "a377784e",
   "metadata": {
    "execution": {
     "iopub.execute_input": "2024-07-03T13:47:33.180141Z",
     "iopub.status.busy": "2024-07-03T13:47:33.179722Z",
     "iopub.status.idle": "2024-07-03T13:47:33.187088Z",
     "shell.execute_reply": "2024-07-03T13:47:33.185951Z"
    },
    "papermill": {
     "duration": 0.022188,
     "end_time": "2024-07-03T13:47:33.189426",
     "exception": false,
     "start_time": "2024-07-03T13:47:33.167238",
     "status": "completed"
    },
    "tags": []
   },
   "outputs": [],
   "source": [
    "K = tf.keras.backend\n",
    "\n",
    "class ExponentialLearningRate(tf.keras.callbacks.Callback):\n",
    "    def __init__(self, factor):\n",
    "        self.factor = factor\n",
    "        self.rates = []\n",
    "        self.losses = []\n",
    "    def on_batch_end(self, batch, logs):\n",
    "        current_lr = self.model.optimizer.get_config()['learning_rate']\n",
    "        self.rates.append(current_lr)\n",
    "        self.losses.append(logs[\"loss\"])\n",
    "        new_lr = current_lr * self.factor\n",
    "        self.model.optimizer.learning_rate = new_lr"
   ]
  },
  {
   "cell_type": "code",
   "execution_count": 12,
   "id": "fef4a642",
   "metadata": {
    "execution": {
     "iopub.execute_input": "2024-07-03T13:47:33.212750Z",
     "iopub.status.busy": "2024-07-03T13:47:33.212326Z",
     "iopub.status.idle": "2024-07-03T13:47:33.511134Z",
     "shell.execute_reply": "2024-07-03T13:47:33.509809Z"
    },
    "papermill": {
     "duration": 0.313275,
     "end_time": "2024-07-03T13:47:33.513596",
     "exception": false,
     "start_time": "2024-07-03T13:47:33.200321",
     "status": "completed"
    },
    "tags": []
   },
   "outputs": [],
   "source": [
    "tf.keras.backend.clear_session()\n",
    "np.random.seed(42)\n",
    "tf.random.set_seed(42)"
   ]
  },
  {
   "cell_type": "code",
   "execution_count": 13,
   "id": "39eec0ae",
   "metadata": {
    "execution": {
     "iopub.execute_input": "2024-07-03T13:47:33.547069Z",
     "iopub.status.busy": "2024-07-03T13:47:33.545937Z",
     "iopub.status.idle": "2024-07-03T13:47:33.648514Z",
     "shell.execute_reply": "2024-07-03T13:47:33.647273Z"
    },
    "papermill": {
     "duration": 0.126651,
     "end_time": "2024-07-03T13:47:33.651370",
     "exception": false,
     "start_time": "2024-07-03T13:47:33.524719",
     "status": "completed"
    },
    "tags": []
   },
   "outputs": [
    {
     "name": "stderr",
     "output_type": "stream",
     "text": [
      "/opt/conda/lib/python3.10/site-packages/keras/src/layers/reshaping/flatten.py:37: UserWarning: Do not pass an `input_shape`/`input_dim` argument to a layer. When using Sequential models, prefer using an `Input(shape)` object as the first layer in the model instead.\n",
      "  super().__init__(**kwargs)\n"
     ]
    }
   ],
   "source": [
    "model = tf.keras.Sequential([\n",
    "    tf.keras.layers.Flatten(input_shape=[28, 28]),\n",
    "    tf.keras.layers.Dense(300, activation=\"relu\"),\n",
    "    tf.keras.layers.Dense(100, activation=\"relu\"),\n",
    "    tf.keras.layers.Dense(10 ,activation=\"softmax\")\n",
    "])"
   ]
  },
  {
   "cell_type": "code",
   "execution_count": 14,
   "id": "31837dd1",
   "metadata": {
    "execution": {
     "iopub.execute_input": "2024-07-03T13:47:33.676046Z",
     "iopub.status.busy": "2024-07-03T13:47:33.675673Z",
     "iopub.status.idle": "2024-07-03T13:47:33.705611Z",
     "shell.execute_reply": "2024-07-03T13:47:33.704360Z"
    },
    "papermill": {
     "duration": 0.046088,
     "end_time": "2024-07-03T13:47:33.708731",
     "exception": false,
     "start_time": "2024-07-03T13:47:33.662643",
     "status": "completed"
    },
    "tags": []
   },
   "outputs": [],
   "source": [
    "optimizer = tf.keras.optimizers.SGD(learning_rate=1e-3)\n",
    "model.compile(loss=\"sparse_categorical_crossentropy\", optimizer=optimizer,\n",
    "              metrics=[\"accuracy\"])\n",
    "expon_lr = ExponentialLearningRate(factor=1.005)"
   ]
  },
  {
   "cell_type": "code",
   "execution_count": 15,
   "id": "b9e501c2",
   "metadata": {
    "execution": {
     "iopub.execute_input": "2024-07-03T13:47:33.734940Z",
     "iopub.status.busy": "2024-07-03T13:47:33.733796Z",
     "iopub.status.idle": "2024-07-03T13:47:42.349399Z",
     "shell.execute_reply": "2024-07-03T13:47:42.348209Z"
    },
    "papermill": {
     "duration": 8.631802,
     "end_time": "2024-07-03T13:47:42.352072",
     "exception": false,
     "start_time": "2024-07-03T13:47:33.720270",
     "status": "completed"
    },
    "tags": []
   },
   "outputs": [
    {
     "name": "stdout",
     "output_type": "stream",
     "text": [
      "\u001b[1m1719/1719\u001b[0m \u001b[32m━━━━━━━━━━━━━━━━━━━━\u001b[0m\u001b[37m\u001b[0m \u001b[1m8s\u001b[0m 4ms/step - accuracy: 0.4886 - loss: nan - val_accuracy: 0.0958 - val_loss: nan\n"
     ]
    }
   ],
   "source": [
    "history = model.fit(X_train, y_train, epochs=1,\n",
    "                    validation_data=(X_valid, y_valid),\n",
    "                    callbacks=[expon_lr])"
   ]
  },
  {
   "cell_type": "code",
   "execution_count": 16,
   "id": "c938956d",
   "metadata": {
    "execution": {
     "iopub.execute_input": "2024-07-03T13:47:42.393084Z",
     "iopub.status.busy": "2024-07-03T13:47:42.392702Z",
     "iopub.status.idle": "2024-07-03T13:47:42.971442Z",
     "shell.execute_reply": "2024-07-03T13:47:42.970146Z"
    },
    "papermill": {
     "duration": 0.602198,
     "end_time": "2024-07-03T13:47:42.973916",
     "exception": false,
     "start_time": "2024-07-03T13:47:42.371718",
     "status": "completed"
    },
    "tags": []
   },
   "outputs": [
    {
     "data": {
      "text/plain": [
       "Text(0, 0.5, 'Loss')"
      ]
     },
     "execution_count": 16,
     "metadata": {},
     "output_type": "execute_result"
    },
    {
     "data": {
      "image/png": "[encoded data removed]",
      "text/plain": [
       "<Figure size 640x480 with 1 Axes>"
      ]
     },
     "metadata": {},
     "output_type": "display_data"
    }
   ],
   "source": [
    "plt.plot(expon_lr.rates, expon_lr.losses)\n",
    "plt.gca().set_xscale('log')\n",
    "plt.hlines(min(expon_lr.losses), min(expon_lr.rates), max(expon_lr.rates))\n",
    "plt.axis([min(expon_lr.rates), max(expon_lr.rates), 0, expon_lr.losses[0]])\n",
    "plt.grid()\n",
    "plt.xlabel(\"Learning rate\")\n",
    "plt.ylabel(\"Loss\")"
   ]
  },
  {
   "cell_type": "code",
   "execution_count": 17,
   "id": "b01ffe1c",
   "metadata": {
    "execution": {
     "iopub.execute_input": "2024-07-03T13:47:43.016332Z",
     "iopub.status.busy": "2024-07-03T13:47:43.015937Z",
     "iopub.status.idle": "2024-07-03T13:47:43.265303Z",
     "shell.execute_reply": "2024-07-03T13:47:43.263970Z"
    },
    "papermill": {
     "duration": 0.274108,
     "end_time": "2024-07-03T13:47:43.267963",
     "exception": false,
     "start_time": "2024-07-03T13:47:42.993855",
     "status": "completed"
    },
    "tags": []
   },
   "outputs": [],
   "source": [
    "# Loss shoots up violently past 6e-1\n",
    "# Next we'll try using half at 3e-1\n",
    "\n",
    "tf.keras.backend.clear_session()\n",
    "np.random.seed(42)\n",
    "tf.random.set_seed(42)"
   ]
  },
  {
   "cell_type": "code",
   "execution_count": 18,
   "id": "37cf31dd",
   "metadata": {
    "execution": {
     "iopub.execute_input": "2024-07-03T13:47:43.310855Z",
     "iopub.status.busy": "2024-07-03T13:47:43.310378Z",
     "iopub.status.idle": "2024-07-03T13:47:43.369618Z",
     "shell.execute_reply": "2024-07-03T13:47:43.368404Z"
    },
    "papermill": {
     "duration": 0.083455,
     "end_time": "2024-07-03T13:47:43.372203",
     "exception": false,
     "start_time": "2024-07-03T13:47:43.288748",
     "status": "completed"
    },
    "tags": []
   },
   "outputs": [],
   "source": [
    "model = tf.keras.Sequential([\n",
    "    tf.keras.layers.Flatten(input_shape=[28, 28]),\n",
    "    tf.keras.layers.Dense(300, activation=\"relu\"),\n",
    "    tf.keras.layers.Dense(100, activation=\"relu\"),\n",
    "    tf.keras.layers.Dense(10, activation=\"softmax\")\n",
    "])"
   ]
  },
  {
   "cell_type": "code",
   "execution_count": 19,
   "id": "2538b288",
   "metadata": {
    "execution": {
     "iopub.execute_input": "2024-07-03T13:47:43.417340Z",
     "iopub.status.busy": "2024-07-03T13:47:43.416931Z",
     "iopub.status.idle": "2024-07-03T13:47:43.435186Z",
     "shell.execute_reply": "2024-07-03T13:47:43.433840Z"
    },
    "papermill": {
     "duration": 0.045666,
     "end_time": "2024-07-03T13:47:43.438311",
     "exception": false,
     "start_time": "2024-07-03T13:47:43.392645",
     "status": "completed"
    },
    "tags": []
   },
   "outputs": [],
   "source": [
    "optimizer = tf.keras.optimizers.SGD(learning_rate=3e-1)\n",
    "model.compile(loss=\"sparse_categorical_crossentropy\", optimizer=optimizer,\n",
    "              metrics=[\"accuracy\"])"
   ]
  },
  {
   "cell_type": "code",
   "execution_count": 20,
   "id": "f92ac1e8",
   "metadata": {
    "execution": {
     "iopub.execute_input": "2024-07-03T13:47:43.480973Z",
     "iopub.status.busy": "2024-07-03T13:47:43.480573Z",
     "iopub.status.idle": "2024-07-03T13:47:43.488606Z",
     "shell.execute_reply": "2024-07-03T13:47:43.487276Z"
    },
    "papermill": {
     "duration": 0.03217,
     "end_time": "2024-07-03T13:47:43.491055",
     "exception": false,
     "start_time": "2024-07-03T13:47:43.458885",
     "status": "completed"
    },
    "tags": []
   },
   "outputs": [
    {
     "data": {
      "text/plain": [
       "PosixPath('my_mnist_logs/run_001')"
      ]
     },
     "execution_count": 20,
     "metadata": {},
     "output_type": "execute_result"
    }
   ],
   "source": [
    "from pathlib import Path\n",
    "\n",
    "run_index = 1 # increment this at every run\n",
    "run_logdir = Path() / \"my_mnist_logs\" / \"run_{:03d}\".format(run_index)\n",
    "run_logdir"
   ]
  },
  {
   "cell_type": "code",
   "execution_count": 21,
   "id": "02221a8a",
   "metadata": {
    "execution": {
     "iopub.execute_input": "2024-07-03T13:47:43.534777Z",
     "iopub.status.busy": "2024-07-03T13:47:43.534327Z",
     "iopub.status.idle": "2024-07-03T13:50:16.995485Z",
     "shell.execute_reply": "2024-07-03T13:50:16.993918Z"
    },
    "papermill": {
     "duration": 153.486039,
     "end_time": "2024-07-03T13:50:16.998333",
     "exception": false,
     "start_time": "2024-07-03T13:47:43.512294",
     "status": "completed"
    },
    "tags": []
   },
   "outputs": [
    {
     "name": "stdout",
     "output_type": "stream",
     "text": [
      "Epoch 1/100\n",
      "\u001b[1m1719/1719\u001b[0m \u001b[32m━━━━━━━━━━━━━━━━━━━━\u001b[0m\u001b[37m\u001b[0m \u001b[1m8s\u001b[0m 4ms/step - accuracy: 0.8715 - loss: 0.4036 - val_accuracy: 0.9670 - val_loss: 0.1098\n",
      "Epoch 2/100\n",
      "\u001b[1m1719/1719\u001b[0m \u001b[32m━━━━━━━━━━━━━━━━━━━━\u001b[0m\u001b[37m\u001b[0m \u001b[1m7s\u001b[0m 4ms/step - accuracy: 0.9701 - loss: 0.0994 - val_accuracy: 0.9750 - val_loss: 0.0804\n",
      "Epoch 3/100\n",
      "\u001b[1m1719/1719\u001b[0m \u001b[32m━━━━━━━━━━━━━━━━━━━━\u001b[0m\u001b[37m\u001b[0m \u001b[1m7s\u001b[0m 4ms/step - accuracy: 0.9806 - loss: 0.0642 - val_accuracy: 0.9742 - val_loss: 0.0905\n",
      "Epoch 4/100\n",
      "\u001b[1m1719/1719\u001b[0m \u001b[32m━━━━━━━━━━━━━━━━━━━━\u001b[0m\u001b[37m\u001b[0m \u001b[1m7s\u001b[0m 4ms/step - accuracy: 0.9867 - loss: 0.0432 - val_accuracy: 0.9796 - val_loss: 0.0834\n",
      "Epoch 5/100\n",
      "\u001b[1m1719/1719\u001b[0m \u001b[32m━━━━━━━━━━━━━━━━━━━━\u001b[0m\u001b[37m\u001b[0m \u001b[1m7s\u001b[0m 4ms/step - accuracy: 0.9898 - loss: 0.0328 - val_accuracy: 0.9730 - val_loss: 0.0959\n",
      "Epoch 6/100\n",
      "\u001b[1m1719/1719\u001b[0m \u001b[32m━━━━━━━━━━━━━━━━━━━━\u001b[0m\u001b[37m\u001b[0m \u001b[1m7s\u001b[0m 4ms/step - accuracy: 0.9915 - loss: 0.0272 - val_accuracy: 0.9770 - val_loss: 0.1005\n",
      "Epoch 7/100\n",
      "\u001b[1m1719/1719\u001b[0m \u001b[32m━━━━━━━━━━━━━━━━━━━━\u001b[0m\u001b[37m\u001b[0m \u001b[1m7s\u001b[0m 4ms/step - accuracy: 0.9924 - loss: 0.0241 - val_accuracy: 0.9794 - val_loss: 0.0814\n",
      "Epoch 8/100\n",
      "\u001b[1m1719/1719\u001b[0m \u001b[32m━━━━━━━━━━━━━━━━━━━━\u001b[0m\u001b[37m\u001b[0m \u001b[1m7s\u001b[0m 4ms/step - accuracy: 0.9940 - loss: 0.0181 - val_accuracy: 0.9770 - val_loss: 0.0948\n",
      "Epoch 9/100\n",
      "\u001b[1m1719/1719\u001b[0m \u001b[32m━━━━━━━━━━━━━━━━━━━━\u001b[0m\u001b[37m\u001b[0m \u001b[1m7s\u001b[0m 4ms/step - accuracy: 0.9950 - loss: 0.0157 - val_accuracy: 0.9806 - val_loss: 0.0903\n",
      "Epoch 10/100\n",
      "\u001b[1m1719/1719\u001b[0m \u001b[32m━━━━━━━━━━━━━━━━━━━━\u001b[0m\u001b[37m\u001b[0m \u001b[1m7s\u001b[0m 4ms/step - accuracy: 0.9942 - loss: 0.0174 - val_accuracy: 0.9806 - val_loss: 0.0952\n",
      "Epoch 11/100\n",
      "\u001b[1m1719/1719\u001b[0m \u001b[32m━━━━━━━━━━━━━━━━━━━━\u001b[0m\u001b[37m\u001b[0m \u001b[1m7s\u001b[0m 4ms/step - accuracy: 0.9944 - loss: 0.0154 - val_accuracy: 0.9728 - val_loss: 0.1432\n",
      "Epoch 12/100\n",
      "\u001b[1m1719/1719\u001b[0m \u001b[32m━━━━━━━━━━━━━━━━━━━━\u001b[0m\u001b[37m\u001b[0m \u001b[1m7s\u001b[0m 4ms/step - accuracy: 0.9944 - loss: 0.0190 - val_accuracy: 0.9762 - val_loss: 0.1239\n",
      "Epoch 13/100\n",
      "\u001b[1m1719/1719\u001b[0m \u001b[32m━━━━━━━━━━━━━━━━━━━━\u001b[0m\u001b[37m\u001b[0m \u001b[1m7s\u001b[0m 4ms/step - accuracy: 0.9957 - loss: 0.0132 - val_accuracy: 0.9800 - val_loss: 0.1003\n",
      "Epoch 14/100\n",
      "\u001b[1m1719/1719\u001b[0m \u001b[32m━━━━━━━━━━━━━━━━━━━━\u001b[0m\u001b[37m\u001b[0m \u001b[1m7s\u001b[0m 4ms/step - accuracy: 0.9974 - loss: 0.0074 - val_accuracy: 0.9816 - val_loss: 0.1053\n",
      "Epoch 15/100\n",
      "\u001b[1m1719/1719\u001b[0m \u001b[32m━━━━━━━━━━━━━━━━━━━━\u001b[0m\u001b[37m\u001b[0m \u001b[1m7s\u001b[0m 4ms/step - accuracy: 0.9973 - loss: 0.0077 - val_accuracy: 0.9802 - val_loss: 0.1092\n",
      "Epoch 16/100\n",
      "\u001b[1m1719/1719\u001b[0m \u001b[32m━━━━━━━━━━━━━━━━━━━━\u001b[0m\u001b[37m\u001b[0m \u001b[1m7s\u001b[0m 4ms/step - accuracy: 0.9978 - loss: 0.0066 - val_accuracy: 0.9820 - val_loss: 0.1108\n",
      "Epoch 17/100\n",
      "\u001b[1m1719/1719\u001b[0m \u001b[32m━━━━━━━━━━━━━━━━━━━━\u001b[0m\u001b[37m\u001b[0m \u001b[1m7s\u001b[0m 4ms/step - accuracy: 0.9972 - loss: 0.0083 - val_accuracy: 0.9810 - val_loss: 0.1183\n",
      "Epoch 18/100\n",
      "\u001b[1m1719/1719\u001b[0m \u001b[32m━━━━━━━━━━━━━━━━━━━━\u001b[0m\u001b[37m\u001b[0m \u001b[1m7s\u001b[0m 4ms/step - accuracy: 0.9985 - loss: 0.0048 - val_accuracy: 0.9822 - val_loss: 0.1041\n",
      "Epoch 19/100\n",
      "\u001b[1m1719/1719\u001b[0m \u001b[32m━━━━━━━━━━━━━━━━━━━━\u001b[0m\u001b[37m\u001b[0m \u001b[1m7s\u001b[0m 4ms/step - accuracy: 0.9992 - loss: 0.0024 - val_accuracy: 0.9746 - val_loss: 0.1737\n",
      "Epoch 20/100\n",
      "\u001b[1m1719/1719\u001b[0m \u001b[32m━━━━━━━━━━━━━━━━━━━━\u001b[0m\u001b[37m\u001b[0m \u001b[1m7s\u001b[0m 4ms/step - accuracy: 0.9968 - loss: 0.0110 - val_accuracy: 0.9784 - val_loss: 0.1472\n",
      "Epoch 21/100\n",
      "\u001b[1m1719/1719\u001b[0m \u001b[32m━━━━━━━━━━━━━━━━━━━━\u001b[0m\u001b[37m\u001b[0m \u001b[1m7s\u001b[0m 4ms/step - accuracy: 0.9979 - loss: 0.0070 - val_accuracy: 0.9776 - val_loss: 0.1467\n",
      "Epoch 22/100\n",
      "\u001b[1m1719/1719\u001b[0m \u001b[32m━━━━━━━━━━━━━━━━━━━━\u001b[0m\u001b[37m\u001b[0m \u001b[1m7s\u001b[0m 4ms/step - accuracy: 0.9977 - loss: 0.0074 - val_accuracy: 0.9810 - val_loss: 0.1395\n"
     ]
    }
   ],
   "source": [
    "early_stopping_cb = tf.keras.callbacks.EarlyStopping(patience=20)\n",
    "checkpoint_cb = tf.keras.callbacks.ModelCheckpoint(\"my_mnist_model.keras\", save_best_only=True)\n",
    "tensorboard_cb = tf.keras.callbacks.TensorBoard(run_logdir)\n",
    "\n",
    "history = model.fit(X_train, y_train, epochs=100,\n",
    "                    validation_data=(X_valid, y_valid),\n",
    "                    callbacks=[checkpoint_cb, early_stopping_cb, tensorboard_cb])"
   ]
  },
  {
   "cell_type": "code",
   "execution_count": 22,
   "id": "e9176bd9",
   "metadata": {
    "execution": {
     "iopub.execute_input": "2024-07-03T13:50:17.460524Z",
     "iopub.status.busy": "2024-07-03T13:50:17.460103Z",
     "iopub.status.idle": "2024-07-03T13:50:18.579569Z",
     "shell.execute_reply": "2024-07-03T13:50:18.578291Z"
    },
    "papermill": {
     "duration": 1.340994,
     "end_time": "2024-07-03T13:50:18.582273",
     "exception": false,
     "start_time": "2024-07-03T13:50:17.241279",
     "status": "completed"
    },
    "tags": []
   },
   "outputs": [
    {
     "name": "stdout",
     "output_type": "stream",
     "text": [
      "\u001b[1m313/313\u001b[0m \u001b[32m━━━━━━━━━━━━━━━━━━━━\u001b[0m\u001b[37m\u001b[0m \u001b[1m1s\u001b[0m 2ms/step - accuracy: 0.9669 - loss: 0.1074\n"
     ]
    },
    {
     "data": {
      "text/plain": [
       "[0.08725562691688538, 0.9714999794960022]"
      ]
     },
     "execution_count": 22,
     "metadata": {},
     "output_type": "execute_result"
    }
   ],
   "source": [
    "model = tf.keras.models.load_model(\"my_mnist_model.keras\") # roll back to best model.\n",
    "model.evaluate(X_test, y_test)"
   ]
  },
  {
   "cell_type": "code",
   "execution_count": 23,
   "id": "737df830",
   "metadata": {
    "execution": {
     "iopub.execute_input": "2024-07-03T13:50:19.012068Z",
     "iopub.status.busy": "2024-07-03T13:50:19.011213Z",
     "iopub.status.idle": "2024-07-03T13:50:19.031174Z",
     "shell.execute_reply": "2024-07-03T13:50:19.029946Z"
    },
    "papermill": {
     "duration": 0.234826,
     "end_time": "2024-07-03T13:50:19.033711",
     "exception": false,
     "start_time": "2024-07-03T13:50:18.798885",
     "status": "completed"
    },
    "tags": []
   },
   "outputs": [],
   "source": [
    "%load_ext tensorboard"
   ]
  },
  {
   "cell_type": "code",
   "execution_count": 24,
   "id": "cf50aa93",
   "metadata": {
    "execution": {
     "iopub.execute_input": "2024-07-03T13:50:19.468546Z",
     "iopub.status.busy": "2024-07-03T13:50:19.468101Z",
     "iopub.status.idle": "2024-07-03T13:50:25.991835Z",
     "shell.execute_reply": "2024-07-03T13:50:25.990563Z"
    },
    "papermill": {
     "duration": 6.745129,
     "end_time": "2024-07-03T13:50:25.994394",
     "exception": false,
     "start_time": "2024-07-03T13:50:19.249265",
     "status": "completed"
    },
    "tags": []
   },
   "outputs": [
    {
     "data": {
      "text/html": [
       "\n",
       "      <iframe id=\"tensorboard-frame-b39cbda6d430b78d\" width=\"100%\" height=\"800\" frameborder=\"0\">\n",
       "      </iframe>\n",
       "      <script>\n",
       "        (function() {\n",
       "          const frame = document.getElementById(\"tensorboard-frame-b39cbda6d430b78d\");\n",
       "          const url = new URL(\"/\", window.location);\n",
       "          const port = 6006;\n",
       "          if (port) {\n",
       "            url.port = port;\n",
       "          }\n",
       "          frame.src = url;\n",
       "        })();\n",
       "      </script>\n",
       "    "
      ],
      "text/plain": [
       "<IPython.core.display.HTML object>"
      ]
     },
     "metadata": {},
     "output_type": "display_data"
    }
   ],
   "source": [
    "%tensorboard --logdir=./my_mnist_logs"
   ]
  },
  {
   "cell_type": "markdown",
   "id": "e474bd30",
   "metadata": {
    "papermill": {
     "duration": 0.275118,
     "end_time": "2024-07-03T13:50:26.477482",
     "exception": false,
     "start_time": "2024-07-03T13:50:26.202364",
     "status": "completed"
    },
    "tags": []
   },
   "source": [
    "## Optimizing the Neural Net Using Keras Tuner."
   ]
  },
  {
   "cell_type": "code",
   "execution_count": 25,
   "id": "9ba9299a",
   "metadata": {
    "execution": {
     "iopub.execute_input": "2024-07-03T13:50:26.905380Z",
     "iopub.status.busy": "2024-07-03T13:50:26.905022Z",
     "iopub.status.idle": "2024-07-03T13:50:26.916796Z",
     "shell.execute_reply": "2024-07-03T13:50:26.915502Z"
    },
    "papermill": {
     "duration": 0.230253,
     "end_time": "2024-07-03T13:50:26.919243",
     "exception": false,
     "start_time": "2024-07-03T13:50:26.688990",
     "status": "completed"
    },
    "tags": []
   },
   "outputs": [],
   "source": [
    "def build_model(hp):\n",
    "    model = keras.Sequential()\n",
    "    model.add(keras.layers.Flatten(input_shape=[28, 28]))\n",
    "    \n",
    "    # Tune the number of units in the first Dense layer\n",
    "    hp_units = hp.Int('units', min_value=32, max_value=512, step=32)\n",
    "    model.add(keras.layers.Dense(units=hp_units, activation='relu'))\n",
    "    \n",
    "    # Tune the number of Dense layers and their units\n",
    "    for i in range(hp.Int('num_layers', 1, 4)):\n",
    "        # Tune number of units separately for each layer\n",
    "        units = hp.Int(f'units_{i}', min_value=32, max_value=512, step=32)\n",
    "        \n",
    "        # Tune dropout rate\n",
    "        dropout_rate = hp.Float(f'dropout_{i}', min_value=0.0, max_value=0.5, step=0.1)\n",
    "        \n",
    "        # Tune activation function\n",
    "        activation = hp.Choice(f'activation_{i}', values=['relu', 'tanh', 'selu'])\n",
    "        \n",
    "        model.add(keras.layers.Dense(units=units, activation=activation))\n",
    "        model.add(keras.layers.Dropout(rate=dropout_rate))\n",
    "    \n",
    "    model.add(keras.layers.Dense(10, activation='softmax'))\n",
    "    \n",
    "    # Tune the learning rate for the optimizer\n",
    "    hp_learning_rate = hp.Float('learning_rate', min_value=1e-4, max_value=1e-2, sampling='log')\n",
    "    \n",
    "    # Tune the choice of optimizer\n",
    "    optimizer_choice = hp.Choice('optimizer', values=['adam', 'sgd', 'rmsprop'])\n",
    "    if optimizer_choice == 'adam':\n",
    "        optimizer = keras.optimizers.Adam(learning_rate=hp_learning_rate)\n",
    "    elif optimizer_choice == 'sgd':\n",
    "        optimizer = keras.optimizers.SGD(learning_rate=hp_learning_rate)\n",
    "    else:\n",
    "        optimizer = keras.optimizers.RMSprop(learning_rate=hp_learning_rate)\n",
    "    \n",
    "    model.compile(optimizer=optimizer,\n",
    "                  loss='sparse_categorical_crossentropy',\n",
    "                  metrics=['accuracy'])\n",
    "    \n",
    "    return model"
   ]
  },
  {
   "cell_type": "code",
   "execution_count": 26,
   "id": "9d47c775",
   "metadata": {
    "execution": {
     "iopub.execute_input": "2024-07-03T13:50:27.396305Z",
     "iopub.status.busy": "2024-07-03T13:50:27.395342Z",
     "iopub.status.idle": "2024-07-03T13:50:27.658318Z",
     "shell.execute_reply": "2024-07-03T13:50:27.657047Z"
    },
    "papermill": {
     "duration": 0.507852,
     "end_time": "2024-07-03T13:50:27.660974",
     "exception": false,
     "start_time": "2024-07-03T13:50:27.153122",
     "status": "completed"
    },
    "tags": []
   },
   "outputs": [
    {
     "name": "stderr",
     "output_type": "stream",
     "text": [
      "/opt/conda/lib/python3.10/site-packages/keras/src/layers/reshaping/flatten.py:37: UserWarning: Do not pass an `input_shape`/`input_dim` argument to a layer. When using Sequential models, prefer using an `Input(shape)` object as the first layer in the model instead.\n",
      "  super().__init__(**kwargs)\n"
     ]
    }
   ],
   "source": [
    "from tensorflow import keras\n",
    "import keras_tuner as kt\n",
    "\n",
    "\n",
    "tuner = kt.Hyperband(build_model,\n",
    "                     objective='val_accuracy',\n",
    "                     max_epochs=4,\n",
    "                     factor=3,\n",
    "                     directory='my_dir',\n",
    "                     project_name='mnist_tuning')\n",
    "\n",
    "# Define callbacks\n",
    "stop_early = tf.keras.callbacks.EarlyStopping(monitor='val_loss', patience=5)\n",
    "tensorboard_cb = tf.keras.callbacks.TensorBoard('mnist_tb_logs')"
   ]
  },
  {
   "cell_type": "code",
   "execution_count": 27,
   "id": "1f1decac",
   "metadata": {
    "execution": {
     "iopub.execute_input": "2024-07-03T13:50:28.085006Z",
     "iopub.status.busy": "2024-07-03T13:50:28.084611Z",
     "iopub.status.idle": "2024-07-03T13:55:32.203327Z",
     "shell.execute_reply": "2024-07-03T13:55:32.201856Z"
    },
    "papermill": {
     "duration": 304.573686,
     "end_time": "2024-07-03T13:55:32.445712",
     "exception": false,
     "start_time": "2024-07-03T13:50:27.872026",
     "status": "completed"
    },
    "tags": []
   },
   "outputs": [
    {
     "name": "stdout",
     "output_type": "stream",
     "text": [
      "Trial 10 Complete [00h 00m 51s]\n",
      "val_accuracy: 0.9690909385681152\n",
      "\n",
      "Best val_accuracy So Far: 0.9712727069854736\n",
      "Total elapsed time: 00h 05m 04s\n"
     ]
    }
   ],
   "source": [
    "# Perform the hyperparameter search\n",
    "tuner.search(X_train, y_train,\n",
    "             epochs=4,\n",
    "             validation_split=0.2,\n",
    "             callbacks=[stop_early, tensorboard_cb])"
   ]
  },
  {
   "cell_type": "code",
   "execution_count": 28,
   "id": "b3213846",
   "metadata": {
    "execution": {
     "iopub.execute_input": "2024-07-03T13:55:32.932160Z",
     "iopub.status.busy": "2024-07-03T13:55:32.931741Z",
     "iopub.status.idle": "2024-07-03T13:55:33.046247Z",
     "shell.execute_reply": "2024-07-03T13:55:33.044968Z"
    },
    "papermill": {
     "duration": 0.327141,
     "end_time": "2024-07-03T13:55:33.049022",
     "exception": false,
     "start_time": "2024-07-03T13:55:32.721881",
     "status": "completed"
    },
    "tags": []
   },
   "outputs": [],
   "source": [
    "# Get the best model and hyperparameters\n",
    "best_hps = tuner.get_best_hyperparameters(num_trials=1)[0]\n",
    "best_model = tuner.hypermodel.build(best_hps)"
   ]
  },
  {
   "cell_type": "code",
   "execution_count": 29,
   "id": "f3ee25cd",
   "metadata": {
    "execution": {
     "iopub.execute_input": "2024-07-03T13:55:33.473185Z",
     "iopub.status.busy": "2024-07-03T13:55:33.472762Z",
     "iopub.status.idle": "2024-07-03T13:57:27.609805Z",
     "shell.execute_reply": "2024-07-03T13:57:27.608613Z"
    },
    "papermill": {
     "duration": 114.354784,
     "end_time": "2024-07-03T13:57:27.612700",
     "exception": false,
     "start_time": "2024-07-03T13:55:33.257916",
     "status": "completed"
    },
    "tags": []
   },
   "outputs": [
    {
     "name": "stdout",
     "output_type": "stream",
     "text": [
      "Epoch 1/10\n",
      "\u001b[1m1375/1375\u001b[0m \u001b[32m━━━━━━━━━━━━━━━━━━━━\u001b[0m\u001b[37m\u001b[0m \u001b[1m12s\u001b[0m 7ms/step - accuracy: 0.7690 - loss: 0.7478 - val_accuracy: 0.9485 - val_loss: 0.1737\n",
      "Epoch 2/10\n",
      "\u001b[1m1375/1375\u001b[0m \u001b[32m━━━━━━━━━━━━━━━━━━━━\u001b[0m\u001b[37m\u001b[0m \u001b[1m10s\u001b[0m 7ms/step - accuracy: 0.9472 - loss: 0.1759 - val_accuracy: 0.9589 - val_loss: 0.1357\n",
      "Epoch 3/10\n",
      "\u001b[1m1375/1375\u001b[0m \u001b[32m━━━━━━━━━━━━━━━━━━━━\u001b[0m\u001b[37m\u001b[0m \u001b[1m10s\u001b[0m 7ms/step - accuracy: 0.9650 - loss: 0.1179 - val_accuracy: 0.9671 - val_loss: 0.1107\n",
      "Epoch 4/10\n",
      "\u001b[1m1375/1375\u001b[0m \u001b[32m━━━━━━━━━━━━━━━━━━━━\u001b[0m\u001b[37m\u001b[0m \u001b[1m10s\u001b[0m 7ms/step - accuracy: 0.9752 - loss: 0.0836 - val_accuracy: 0.9725 - val_loss: 0.0961\n",
      "Epoch 5/10\n",
      "\u001b[1m1375/1375\u001b[0m \u001b[32m━━━━━━━━━━━━━━━━━━━━\u001b[0m\u001b[37m\u001b[0m \u001b[1m10s\u001b[0m 7ms/step - accuracy: 0.9802 - loss: 0.0665 - val_accuracy: 0.9718 - val_loss: 0.0992\n",
      "Epoch 6/10\n",
      "\u001b[1m1375/1375\u001b[0m \u001b[32m━━━━━━━━━━━━━━━━━━━━\u001b[0m\u001b[37m\u001b[0m \u001b[1m10s\u001b[0m 8ms/step - accuracy: 0.9840 - loss: 0.0503 - val_accuracy: 0.9729 - val_loss: 0.0973\n",
      "Epoch 7/10\n",
      "\u001b[1m1375/1375\u001b[0m \u001b[32m━━━━━━━━━━━━━━━━━━━━\u001b[0m\u001b[37m\u001b[0m \u001b[1m10s\u001b[0m 7ms/step - accuracy: 0.9880 - loss: 0.0386 - val_accuracy: 0.9758 - val_loss: 0.0930\n",
      "Epoch 8/10\n",
      "\u001b[1m1375/1375\u001b[0m \u001b[32m━━━━━━━━━━━━━━━━━━━━\u001b[0m\u001b[37m\u001b[0m \u001b[1m10s\u001b[0m 7ms/step - accuracy: 0.9903 - loss: 0.0294 - val_accuracy: 0.9732 - val_loss: 0.1052\n",
      "Epoch 9/10\n",
      "\u001b[1m1375/1375\u001b[0m \u001b[32m━━━━━━━━━━━━━━━━━━━━\u001b[0m\u001b[37m\u001b[0m \u001b[1m20s\u001b[0m 7ms/step - accuracy: 0.9920 - loss: 0.0250 - val_accuracy: 0.9695 - val_loss: 0.1267\n",
      "Epoch 10/10\n",
      "\u001b[1m1375/1375\u001b[0m \u001b[32m━━━━━━━━━━━━━━━━━━━━\u001b[0m\u001b[37m\u001b[0m \u001b[1m10s\u001b[0m 7ms/step - accuracy: 0.9933 - loss: 0.0215 - val_accuracy: 0.9744 - val_loss: 0.1080\n"
     ]
    }
   ],
   "source": [
    "# Train the best model\n",
    "history = best_model.fit(X_train, y_train, \n",
    "                         epochs=10,\n",
    "                         validation_split=0.2,\n",
    "                         callbacks=[stop_early, tensorboard_cb])"
   ]
  },
  {
   "cell_type": "code",
   "execution_count": 30,
   "id": "d2b17dbe",
   "metadata": {
    "execution": {
     "iopub.execute_input": "2024-07-03T13:57:28.339083Z",
     "iopub.status.busy": "2024-07-03T13:57:28.338664Z",
     "iopub.status.idle": "2024-07-03T13:57:29.326683Z",
     "shell.execute_reply": "2024-07-03T13:57:29.325448Z"
    },
    "papermill": {
     "duration": 1.32123,
     "end_time": "2024-07-03T13:57:29.329307",
     "exception": false,
     "start_time": "2024-07-03T13:57:28.008077",
     "status": "completed"
    },
    "tags": []
   },
   "outputs": [
    {
     "name": "stdout",
     "output_type": "stream",
     "text": [
      "\u001b[1m313/313\u001b[0m \u001b[32m━━━━━━━━━━━━━━━━━━━━\u001b[0m\u001b[37m\u001b[0m \u001b[1m1s\u001b[0m 3ms/step - accuracy: 0.9736 - loss: 0.1071\n",
      "Test accuracy: 0.9769999980926514\n"
     ]
    }
   ],
   "source": [
    "test_loss, test_acc = best_model.evaluate(X_test, y_test)\n",
    "print(f'Test accuracy: {test_acc}')"
   ]
  }
 ],
 "metadata": {
  "kaggle": {
   "accelerator": "none",
   "dataSources": [],
   "dockerImageVersionId": 30732,
   "isGpuEnabled": false,
   "isInternetEnabled": true,
   "language": "python",
   "sourceType": "notebook"
  },
  "kernelspec": {
   "display_name": "Python 3",
   "language": "python",
   "name": "python3"
  },
  "language_info": {
   "codemirror_mode": {
    "name": "ipython",
    "version": 3
   },
   "file_extension": ".py",
   "mimetype": "text/x-python",
   "name": "python",
   "nbconvert_exporter": "python",
   "pygments_lexer": "ipython3",
   "version": "3.10.13"
  },
  "papermill": {
   "default_parameters": {},
   "duration": 624.345647,
   "end_time": "2024-07-03T13:57:32.280369",
   "environment_variables": {},
   "exception": null,
   "input_path": "__notebook__.ipynb",
   "output_path": "__notebook__.ipynb",
   "parameters": {},
   "start_time": "2024-07-03T13:47:07.934722",
   "version": "2.5.0"
  }
 },
 "nbformat": 4,
 "nbformat_minor": 5
}
